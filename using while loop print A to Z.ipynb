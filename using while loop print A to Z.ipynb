{
 "cells": [
  {
   "cell_type": "code",
   "execution_count": 2,
   "id": "5453a234",
   "metadata": {},
   "outputs": [
    {
     "name": "stdout",
     "output_type": "stream",
     "text": [
      "  * \n",
      "*   *\n",
      "* * *\n",
      "*   *\n"
     ]
    }
   ],
   "source": [
    "x=0\n",
    "while x<4:\n",
    "    if x==0:\n",
    "        print(\"  * \")\n",
    "    elif x==1:\n",
    "        print(\"*   *\")\n",
    "    elif x==2:\n",
    "        print(\"* * *\")\n",
    "    elif x==3:\n",
    "        print(\"*   *\")\n",
    "    else:\n",
    "        print(\"*   *\")\n",
    "    x=x+1   \n",
    "        "
   ]
  },
  {
   "cell_type": "code",
   "execution_count": 56,
   "id": "a90cc9cc",
   "metadata": {},
   "outputs": [
    {
     "name": "stdout",
     "output_type": "stream",
     "text": [
      "* * *\n",
      "*    *\n",
      "*****\n",
      "*    *\n",
      "* * *\n"
     ]
    }
   ],
   "source": [
    "x=0\n",
    "while x<5:\n",
    "    if x==0:\n",
    "        print(\"* * *\")\n",
    "    elif x==1:\n",
    "        print(\"*    *\")\n",
    "    elif x==2:\n",
    "        print(\"*****\")\n",
    "    elif x==3:\n",
    "        print(\"*    *\")\n",
    "    elif x==4:\n",
    "        print(\"* * *\")\n",
    "    else:\n",
    "        print(\"* * *\")\n",
    "    x=x+1    "
   ]
  },
  {
   "cell_type": "code",
   "execution_count": 35,
   "id": "acc644cf",
   "metadata": {},
   "outputs": [
    {
     "name": "stdout",
     "output_type": "stream",
     "text": [
      "* * *\n",
      "*\n",
      "*\n",
      "*\n",
      "* * * \n"
     ]
    }
   ],
   "source": [
    "x=1\n",
    "while x<6:\n",
    "    if x==1:\n",
    "        print(\"* * *\")\n",
    "    elif x==2:\n",
    "        print(\"*\")\n",
    "    elif x==3:\n",
    "        print(\"*\")\n",
    "    elif x==4:\n",
    "        print(\"*\")\n",
    "    elif x==5:\n",
    "        print(\"* * * \")\n",
    "    else:\n",
    "        print(\"* * * \")\n",
    "    x=x+1"
   ]
  },
  {
   "cell_type": "code",
   "execution_count": 40,
   "id": "95b6e2df",
   "metadata": {},
   "outputs": [
    {
     "name": "stdout",
     "output_type": "stream",
     "text": [
      "* * *\n",
      "*     *\n",
      "*     *\n",
      "* * *\n"
     ]
    }
   ],
   "source": [
    "x=0\n",
    "while x<4:\n",
    "    if x==0:\n",
    "        print(\"* * *\")\n",
    "    elif x==1:\n",
    "        print(\"*     *\")\n",
    "    elif x==2:\n",
    "        print(\"*     *\")\n",
    "    elif x==3:\n",
    "        print(\"* * *\")\n",
    "    else:\n",
    "        print(\"* * *\")\n",
    "    x=x+1    "
   ]
  },
  {
   "cell_type": "code",
   "execution_count": 41,
   "id": "742af8f1",
   "metadata": {},
   "outputs": [
    {
     "name": "stdout",
     "output_type": "stream",
     "text": [
      "****\n",
      "*\n",
      "****\n",
      "*\n",
      "****\n"
     ]
    }
   ],
   "source": [
    "x=0\n",
    "while x<5:\n",
    "    if x==0:\n",
    "        print(\"****\")\n",
    "    elif x==1:\n",
    "        print(\"*\")\n",
    "    elif x==2:\n",
    "        print(\"****\")\n",
    "    elif x==3:\n",
    "        print(\"*\")\n",
    "    elif x==4:\n",
    "        print(\"****\")\n",
    "    else:\n",
    "        print(\"****\")\n",
    "    x=x+1    \n",
    "        "
   ]
  },
  {
   "cell_type": "code",
   "execution_count": 42,
   "id": "48be767b",
   "metadata": {},
   "outputs": [
    {
     "name": "stdout",
     "output_type": "stream",
     "text": [
      "****\n",
      "*\n",
      "****\n",
      "*\n",
      "*\n"
     ]
    }
   ],
   "source": [
    "x=0\n",
    "while x<5:\n",
    "    if x==0:\n",
    "        print(\"****\")\n",
    "    elif x==1:\n",
    "        print(\"*\")\n",
    "    elif x==2:\n",
    "        print(\"****\")\n",
    "    elif x==3:\n",
    "        print(\"*\")\n",
    "    elif x==4:\n",
    "        print(\"*\")\n",
    "    else:\n",
    "        print(\"*\")\n",
    "    x=x+1\n",
    "    \n",
    "        \n",
    "       \n",
    "        \n"
   ]
  },
  {
   "cell_type": "code",
   "execution_count": 3,
   "id": "52912d48",
   "metadata": {},
   "outputs": [
    {
     "name": "stdout",
     "output_type": "stream",
     "text": [
      "* * *\n",
      "*    \n",
      "*    ****\n",
      "* * *   *\n",
      "        *\n"
     ]
    }
   ],
   "source": [
    "x=0\n",
    "while x<5:\n",
    "    if x==0:\n",
    "        print(\"* * *\") \n",
    "    elif x==1:\n",
    "        print(\"*    \") \n",
    "    elif x==2:\n",
    "        print(\"*    ****\")\n",
    "    elif x==3:\n",
    "        print(\"* * *   *\" )\n",
    "    elif x==4:\n",
    "        print(\"        *\")\n",
    "    else:\n",
    "        print(\"          *\")\n",
    "    x=x+1\n",
    "        "
   ]
  },
  {
   "cell_type": "code",
   "execution_count": 5,
   "id": "f3d0b992",
   "metadata": {},
   "outputs": [
    {
     "name": "stdout",
     "output_type": "stream",
     "text": [
      "*    *\n",
      "*    *\n",
      "******\n",
      "*    *\n",
      "*    *\n"
     ]
    }
   ],
   "source": [
    "x=0\n",
    "while x<5:\n",
    "    if x==0:\n",
    "        print(\"*    *\")\n",
    "    elif x==1:\n",
    "        print(\"*    *\")\n",
    "    elif x==2:\n",
    "        print(\"******\")\n",
    "    elif x==3:\n",
    "        print(\"*    *\")\n",
    "    elif x==4:\n",
    "        print(\"*    *\")\n",
    "    else:\n",
    "        print(\"*      *\")\n",
    "    x=x+1    "
   ]
  },
  {
   "cell_type": "code",
   "execution_count": 1,
   "id": "98709b4b",
   "metadata": {},
   "outputs": [
    {
     "name": "stdout",
     "output_type": "stream",
     "text": [
      "*****\n",
      "  *  \n",
      "  *  \n",
      "  *  \n",
      "*****\n"
     ]
    }
   ],
   "source": [
    "x=0\n",
    "while x<5:\n",
    "    if x==0:\n",
    "        print(\"*****\")\n",
    "    elif x==1:\n",
    "        print(\"  *  \")\n",
    "    elif x==2:\n",
    "        print(\"  *  \")\n",
    "    elif x==3:\n",
    "        print(\"  *  \")\n",
    "    elif x==4:\n",
    "        print(\"*****\")\n",
    "    else:\n",
    "        print(\"*****\")\n",
    "    x=x+1"
   ]
  },
  {
   "cell_type": "code",
   "execution_count": 17,
   "id": "7617bfca",
   "metadata": {},
   "outputs": [
    {
     "name": "stdout",
     "output_type": "stream",
     "text": [
      "   ******** \n",
      "        *  \n",
      "        *  \n",
      "  *     * \n",
      "  ******\n"
     ]
    }
   ],
   "source": [
    "x=0\n",
    "while x<5:\n",
    "    if x==0:\n",
    "        print(\"   ******** \")\n",
    "    elif x==1:\n",
    "        print(\"        *  \")\n",
    "    elif x==2:\n",
    "        print(\"        *  \")\n",
    "    elif x==3:\n",
    "        print(\"  *     * \")\n",
    "    elif x==4:\n",
    "        print(\"  ******\")\n",
    "    else:\n",
    "        print(\" *****\")\n",
    "    x=x+1    "
   ]
  },
  {
   "cell_type": "code",
   "execution_count": 24,
   "id": "aa3cb252",
   "metadata": {},
   "outputs": [
    {
     "name": "stdout",
     "output_type": "stream",
     "text": [
      "*   *\n",
      "* *  \n",
      "**     \n",
      "* *  \n",
      "*   *\n"
     ]
    }
   ],
   "source": [
    "x=0\n",
    "while x<5:\n",
    "    if x==0:\n",
    "        print(\"*   *\")\n",
    "    elif x==1:\n",
    "        print(\"* *  \")\n",
    "    elif x==2:\n",
    "        print(\"**     \")\n",
    "    elif x==3:\n",
    "        print(\"* *  \")\n",
    "    elif x==4:\n",
    "        print(\"*   *\")\n",
    "    else:\n",
    "        print(\"*          *\")\n",
    "    x=x+1    "
   ]
  },
  {
   "cell_type": "code",
   "execution_count": 1,
   "id": "be7228e4",
   "metadata": {},
   "outputs": [
    {
     "name": "stdout",
     "output_type": "stream",
     "text": [
      "*\n",
      "*\n",
      "*\n",
      "*\n",
      "*******\n"
     ]
    }
   ],
   "source": [
    "x=0\n",
    "while x<5:\n",
    "    if x==0:\n",
    "        print(\"*\")\n",
    "    elif x==1:\n",
    "        print(\"*\")\n",
    "    elif x==2:\n",
    "        print(\"*\")\n",
    "    elif x==3:\n",
    "        print(\"*\")\n",
    "    elif x==4:\n",
    "        print(\"*******\")\n",
    "    else:\n",
    "        print(\"*******\")\n",
    "    x=x+1    "
   ]
  },
  {
   "cell_type": "code",
   "execution_count": 2,
   "id": "52922865",
   "metadata": {},
   "outputs": [
    {
     "name": "stdout",
     "output_type": "stream",
     "text": [
      "*         *\n",
      "*  *   *  *\n",
      "*    *    *\n",
      "*         *\n",
      "*         *\n"
     ]
    }
   ],
   "source": [
    "x=0\n",
    "while x<5:\n",
    "    if x==0:\n",
    "        print(\"*         *\")\n",
    "    elif x==1:\n",
    "        print(\"*  *   *  *\")\n",
    "    elif x==2:\n",
    "        print(\"*    *    *\")\n",
    "    elif x==3:\n",
    "        print(\"*         *\")\n",
    "    elif x==4:\n",
    "        print(\"*         *\")\n",
    "    else:\n",
    "        print(\"*         *\")\n",
    "    x=x+1    "
   ]
  },
  {
   "cell_type": "code",
   "execution_count": 3,
   "id": "461a34c1",
   "metadata": {},
   "outputs": [
    {
     "name": "stdout",
     "output_type": "stream",
     "text": [
      "*         *\n",
      "*  *      *\n",
      "*    *    *\n",
      "*       *  \n",
      "*         *\n"
     ]
    }
   ],
   "source": [
    "x=0\n",
    "while x<5:\n",
    "    if x==0:\n",
    "        print(\"*         *\")\n",
    "    elif x==1:\n",
    "        print(\"*  *      *\")\n",
    "    elif x==2:\n",
    "        print(\"*    *    *\")\n",
    "    elif x==3:\n",
    "        print(\"*       *  \")\n",
    "    elif x==4:\n",
    "        print(\"*         *\")\n",
    "    else:\n",
    "        print(\"*         *\")\n",
    "    x=x+1    "
   ]
  },
  {
   "cell_type": "code",
   "execution_count": 9,
   "id": "642066bd",
   "metadata": {},
   "outputs": [
    {
     "name": "stdout",
     "output_type": "stream",
     "text": [
      " ***** \n",
      "*     *\n",
      "*     *\n",
      " ***** \n"
     ]
    }
   ],
   "source": [
    "x=0\n",
    "while x<4:\n",
    "    if x==0:\n",
    "        print(  \" ***** \" )\n",
    "    elif x==1:\n",
    "        print(\"*     *\")\n",
    "    elif x==2:\n",
    "        print(\"*     *\")\n",
    "    elif x==3:\n",
    "        print(\" ***** \")\n",
    "    else:\n",
    "        print(\"   ***** \")\n",
    "    x=x+1    "
   ]
  },
  {
   "cell_type": "code",
   "execution_count": 14,
   "id": "cb838dc0",
   "metadata": {},
   "outputs": [
    {
     "name": "stdout",
     "output_type": "stream",
     "text": [
      "******* \n",
      "*      *\n",
      "*******\n",
      "*\n",
      "*\n"
     ]
    }
   ],
   "source": [
    "x=0\n",
    "while x<5:\n",
    "    if x==0:\n",
    "        print(\"******* \")\n",
    "    elif x==1:\n",
    "        print(\"*      *\")\n",
    "    elif x==2:\n",
    "        print(\"*******\")\n",
    "    elif x==3:\n",
    "        print(\"*\")\n",
    "    elif x==4:\n",
    "        print(\"*\")\n",
    "    else:\n",
    "        print(\"*\")\n",
    "    x=x+1    "
   ]
  },
  {
   "cell_type": "code",
   "execution_count": 36,
   "id": "0dc9c92e",
   "metadata": {},
   "outputs": [
    {
     "name": "stdout",
     "output_type": "stream",
     "text": [
      " ***** \n",
      "*     *\n",
      "*    * *\n",
      " ***** * \n",
      "         * \n"
     ]
    }
   ],
   "source": [
    "x=0\n",
    "while x<5:\n",
    "    if x==0:\n",
    "        print(  \" ***** \" )\n",
    "    elif x==1:\n",
    "        print(\"*     *\")\n",
    "    elif x==2:\n",
    "        print(\"*    * *\")\n",
    "    elif x==3:\n",
    "        print(\" ***** * \")\n",
    "    elif x==4:\n",
    "        print(\"         * \")\n",
    "    else:\n",
    "        print(\"           *\")\n",
    "    x=x+1    "
   ]
  },
  {
   "cell_type": "code",
   "execution_count": 43,
   "id": "d2a3d08d",
   "metadata": {},
   "outputs": [
    {
     "name": "stdout",
     "output_type": "stream",
     "text": [
      "* * *\n",
      "*    *\n",
      "*****\n",
      "*    *\n",
      "*     *\n"
     ]
    }
   ],
   "source": [
    "x=0\n",
    "while x<5:\n",
    "    if x==0:\n",
    "        print(\"* * *\")\n",
    "    elif x==1:\n",
    "        print(\"*    *\")\n",
    "    elif x==2:\n",
    "        print(\"*****\")\n",
    "    elif x==3:\n",
    "        print(\"*    *\")\n",
    "    elif x==4:\n",
    "        print(\"*     *\")\n",
    "    else:\n",
    "        print(\"*     *\")\n",
    "    x=x+1    "
   ]
  },
  {
   "cell_type": "code",
   "execution_count": 62,
   "id": "26cc79d3",
   "metadata": {},
   "outputs": [
    {
     "name": "stdout",
     "output_type": "stream",
     "text": [
      "****\n",
      "*   \n",
      "****\n",
      "   *\n",
      "****\n"
     ]
    }
   ],
   "source": [
    "x=0\n",
    "while x<5:\n",
    "    if x==0:\n",
    "        print(   \"****\"  )\n",
    "    elif x==1:\n",
    "        print(\"*   \"  )\n",
    "    elif x==2:\n",
    "        print(  \"****\")\n",
    "    elif x==3:\n",
    "        print( \"   *\")  \n",
    "    elif x==4:\n",
    "        print( \"****\")\n",
    "    else:\n",
    "        print(  \"****\")\n",
    "    x=x+1    \n",
    "    "
   ]
  },
  {
   "cell_type": "code",
   "execution_count": 63,
   "id": "a4a2dd7e",
   "metadata": {},
   "outputs": [
    {
     "name": "stdout",
     "output_type": "stream",
     "text": [
      "*****\n",
      "  *  \n",
      "  *  \n",
      "  *  \n"
     ]
    }
   ],
   "source": [
    "x=0\n",
    "while x<4:\n",
    "    if x==0:\n",
    "        print(\"*****\")\n",
    "    elif x==1:\n",
    "        print(\"  *  \")\n",
    "    elif x==2:\n",
    "        print(\"  *  \")\n",
    "    elif x==3:\n",
    "        print(\"  *  \")\n",
    "    else:\n",
    "        print(\"  *  \")\n",
    "    x=x+1"
   ]
  },
  {
   "cell_type": "code",
   "execution_count": 66,
   "id": "14bdd422",
   "metadata": {},
   "outputs": [
    {
     "name": "stdout",
     "output_type": "stream",
     "text": [
      "*      *\n",
      "*      *\n",
      "*      *\n",
      " ******\n"
     ]
    }
   ],
   "source": [
    "x=0\n",
    "while x<4:\n",
    "    if x==0:\n",
    "        print(\"*      *\")\n",
    "    elif x==1:\n",
    "        print(\"*      *\")\n",
    "    elif x==2:\n",
    "        print(\"*      *\")  \n",
    "    elif x==3:\n",
    "        print(\" ******\")\n",
    "    else:\n",
    "        print(\"*******\")\n",
    "    x=x+1    "
   ]
  },
  {
   "cell_type": "code",
   "execution_count": 72,
   "id": "42e507e7",
   "metadata": {},
   "outputs": [
    {
     "name": "stdout",
     "output_type": "stream",
     "text": [
      " *           *  \n",
      "   *        *  \n",
      "     *    *   \n",
      "        *     \n"
     ]
    }
   ],
   "source": [
    "x=0\n",
    "while x<4:\n",
    "    if x==0:\n",
    "        print(\" *           *  \")\n",
    "    elif x==1:\n",
    "        print(\"   *        *  \")\n",
    "    elif x==2:\n",
    "        print(\"     *    *   \")  \n",
    "    elif x==3:\n",
    "        print(\"        *     \")\n",
    "    else:\n",
    "        print(\"        *     \" )\n",
    "    x=x+1    "
   ]
  },
  {
   "cell_type": "code",
   "execution_count": 77,
   "id": "0c4a8dc9",
   "metadata": {},
   "outputs": [
    {
     "name": "stdout",
     "output_type": "stream",
     "text": [
      "*       *\n",
      "*       *\n",
      "*   *   *\n",
      " *     *\n"
     ]
    }
   ],
   "source": [
    "x=0\n",
    "while x<4:\n",
    "    if x==0:\n",
    "        print(\"*       *\")\n",
    "    elif x==1:\n",
    "        print(\"*       *\")\n",
    "    elif x==2:\n",
    "        print(\"*   *   *\") \n",
    "    elif x==3:\n",
    "        print(\" *     *\") \n",
    "    else:\n",
    "        print(\"*       *\")\n",
    "    x=x+1    \n",
    "        \n",
    "        "
   ]
  },
  {
   "cell_type": "code",
   "execution_count": 80,
   "id": "87889bbc",
   "metadata": {},
   "outputs": [
    {
     "name": "stdout",
     "output_type": "stream",
     "text": [
      "  *                 *       \n",
      "       *        *        \n",
      "            *           \n",
      "       *        *      \n",
      "   *                *  \n"
     ]
    }
   ],
   "source": [
    "x=0\n",
    "while x<5:\n",
    "    if x==0:\n",
    "        print(\"  *                 *       \")\n",
    "    elif x==1:\n",
    "        print(\"       *        *        \")\n",
    "    elif x==2:\n",
    "        print(\"            *           \")\n",
    "    elif x==3:\n",
    "        print(\"       *        *      \")\n",
    "    elif x==4:\n",
    "        print(\"   *                *  \")\n",
    "    else:\n",
    "        print(\"   *                *  \")\n",
    "    x=x+1    "
   ]
  },
  {
   "cell_type": "code",
   "execution_count": 83,
   "id": "a244e737",
   "metadata": {},
   "outputs": [
    {
     "name": "stdout",
     "output_type": "stream",
     "text": [
      "*         * \n",
      "  *     * \n",
      "     *   \n",
      "   *     \n",
      " *     \n"
     ]
    }
   ],
   "source": [
    "x=0\n",
    "while x<5:\n",
    "    if x==0:\n",
    "        print(\"*         * \")\n",
    "    elif x==1:\n",
    "        print(\"  *     * \")\n",
    "    elif x==2:\n",
    "        print(\"     *   \")\n",
    "    elif x==3:\n",
    "        print(\"   *     \")\n",
    "    elif x==4:\n",
    "        print(\" *     \")\n",
    "    else:\n",
    "        print(\" *     \")\n",
    "    x=x+1    "
   ]
  },
  {
   "cell_type": "code",
   "execution_count": 84,
   "id": "1556f010",
   "metadata": {},
   "outputs": [
    {
     "name": "stdout",
     "output_type": "stream",
     "text": [
      "*******\n",
      "    *\n",
      "  *\n",
      "*******\n"
     ]
    }
   ],
   "source": [
    "x=0\n",
    "while x<4:\n",
    "    if x==0:\n",
    "        print(\"*******\")\n",
    "    elif x==1:\n",
    "        print(\"    *\")\n",
    "    elif x==2:\n",
    "        print(\"  *\")\n",
    "    elif x==3:\n",
    "        print(\"*******\")\n",
    "    else:\n",
    "        print(\"*******\")\n",
    "    x=x+1    "
   ]
  },
  {
   "cell_type": "code",
   "execution_count": null,
   "id": "df392ca1",
   "metadata": {},
   "outputs": [],
   "source": []
  }
 ],
 "metadata": {
  "kernelspec": {
   "display_name": "Python 3 (ipykernel)",
   "language": "python",
   "name": "python3"
  },
  "language_info": {
   "codemirror_mode": {
    "name": "ipython",
    "version": 3
   },
   "file_extension": ".py",
   "mimetype": "text/x-python",
   "name": "python",
   "nbconvert_exporter": "python",
   "pygments_lexer": "ipython3",
   "version": "3.9.12"
  }
 },
 "nbformat": 4,
 "nbformat_minor": 5
}
